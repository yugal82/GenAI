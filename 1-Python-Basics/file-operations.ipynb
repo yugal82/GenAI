{
 "cells": [
  {
   "cell_type": "code",
   "execution_count": 4,
   "metadata": {},
   "outputs": [
    {
     "name": "stdout",
     "output_type": "stream",
     "text": [
      "This is an example file with some random content just to perform read and write operations.\n"
     ]
    }
   ],
   "source": [
    "with open('example.txt', 'r') as f:\n",
    "    content = f.read()\n",
    "    print(content)\n",
    "    \n",
    "f.close()"
   ]
  },
  {
   "cell_type": "code",
   "execution_count": 5,
   "metadata": {},
   "outputs": [],
   "source": [
    "new_content = \"Now this is the new content that is being overwritten in the example.txt file\"\n",
    "with open('example.txt', 'w') as f:\n",
    "    f.write(new_content)\n",
    "    \n",
    "f.close()"
   ]
  },
  {
   "cell_type": "code",
   "execution_count": 6,
   "metadata": {},
   "outputs": [],
   "source": [
    "append_content = \"This is an example file with some random content just to perform read and write operations.\"\n",
    "with open('example.txt', 'a') as f:\n",
    "    f.write(append_content)\n",
    "    \n",
    "f.close()"
   ]
  },
  {
   "cell_type": "markdown",
   "metadata": {},
   "source": [
    "Python provides various file modes to control how you interact with files. Here's a list of the common ones:\n",
    "\n",
    "#### Read Modes:\n",
    "\n",
    "'r': Read-only mode. This is the default mode if no mode is specified. It raises an error if the file doesn't exist.\n",
    "\n",
    "'r+': Read and write mode. Opens the file for both reading and writing.\n",
    "\n",
    "#### Write Modes:\n",
    "\n",
    "'w': Write-only mode. Overwrites the file if it exists, creates it otherwise.\n",
    "\n",
    "'w+': Write and read mode. Opens the file for both writing and reading. Overwrites the file if it exists, creates it otherwise.\n",
    "\n",
    "#### Append Modes:\n",
    "\n",
    "'a': Append-only mode. Adds new data to the end of the file. Creates the file if it doesn't exist.\n",
    "\n",
    "'a+': Append and read mode. Opens the file for both appending and reading. Creates the file if it doesn't exist.\n",
    "\n",
    "#### Binary Modes:\n",
    "\n",
    "'b': Binary mode. Used for non-text files (e.g., images, audio). Can be combined with other modes like 'rb', 'wb', 'ab', etc."
   ]
  },
  {
   "cell_type": "markdown",
   "metadata": {},
   "source": []
  },
  {
   "cell_type": "code",
   "execution_count": null,
   "metadata": {},
   "outputs": [],
   "source": []
  }
 ],
 "metadata": {
  "kernelspec": {
   "display_name": "Python 3",
   "language": "python",
   "name": "python3"
  },
  "language_info": {
   "codemirror_mode": {
    "name": "ipython",
    "version": 3
   },
   "file_extension": ".py",
   "mimetype": "text/x-python",
   "name": "python",
   "nbconvert_exporter": "python",
   "pygments_lexer": "ipython3",
   "version": "3.10.4"
  }
 },
 "nbformat": 4,
 "nbformat_minor": 2
}
