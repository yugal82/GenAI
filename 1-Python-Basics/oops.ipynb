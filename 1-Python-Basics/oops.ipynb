{
 "cells": [
  {
   "cell_type": "code",
   "execution_count": 1,
   "metadata": {},
   "outputs": [
    {
     "name": "stdout",
     "output_type": "stream",
     "text": [
      "8990\n",
      "0.8\n",
      "0.8\n",
      "719.2\n",
      "0.7\n",
      "700.0\n",
      "[Item('Phone', 719.2, 10), Item('Laptop', 700.0, 5), Item('Phone', 899, 10), Item('Laptop', 1000, 5), Item('Keyboard', 75, 25), Item('Mouse', 20, 15), Item('VGA Cable', 10, 20)]\n"
     ]
    }
   ],
   "source": [
    "class Item:\n",
    "    \n",
    "    pay_rate = 0.8 # this means that the sale is 20%\n",
    "    all_products = []\n",
    "    \n",
    "    # constructor\n",
    "    # quantity = 0. This means that the quantity is set to zero by default. If we don't get quantity parameter while object is created, then the default quantity will be set to zero\n",
    "    # there can be case where the user creates an object instance of the class and send a string datatype for price and quantity as parameters. Which is wrong, however python does not know which datatype a variable should be by default. To set a default datatype, we use the following syntax: variable: datatype\n",
    "    def __init__(self, name:str, price:float, quantity=0):\n",
    "        # run validation to check if values are valid\n",
    "        assert price >= 0, f\"Price cannot be negative\"\n",
    "        assert quantity >= 0, f\"Quantity cannot be negative\"\n",
    "        \n",
    "        # Instance attributes are variables that belong to a specific object created from a class. They are unique to each instance of the class and are defined inside the class's methods. They are initialized for each object created from the class. Instance attributes represent the specific characteristics or state of individual objects.\n",
    "        # class attributes are class variables that are inherited by every object of a class. The value of class attributes remain the same for every new object\n",
    "        self.name = name\n",
    "        self.price = price\n",
    "        self.quantity = quantity\n",
    "        \n",
    "        Item.all_products.append(self)\n",
    "\n",
    "    def calculate_total_amount(self):\n",
    "        return self.quantity * self.price\n",
    "    \n",
    "    def apply_discount(self):\n",
    "        self.price = self.price * self.pay_rate\n",
    "        \n",
    "    def __repr__(self):\n",
    "        return f\"Item('{self.name}', {self.price}, {self.quantity})\"\n",
    "\n",
    "item1 = Item(\"Phone\", 899, 10) # instance creation\n",
    "total_price = item1.calculate_total_amount()\n",
    "print(total_price)\n",
    "print(Item.pay_rate) # class variable (attribute)\n",
    "\n",
    "# when an instance of a class is created, and when we try to access the attributes of the class, first the instance checks whether the attribute is present in instance attributes, if not, then it checks whether the attribute is present in class attributes i.e it will bring the attribute from the class level.\n",
    "print(item1.pay_rate) # here there is no attribute called pay_rate for instance item1, however pay_rate is defined in class attributes, we can access it using the instance.\n",
    "item1.apply_discount()\n",
    "print(item1.price)\n",
    "\n",
    "# print(Item.__dict__) # prints all the attributes of the class level\n",
    "# print(item1.__dict__) # prints all the attributes of the instance level\n",
    "\n",
    "# we can set the pay_rate attribute to different value for different instances. For eg suppose there are 2 items Phone and Laptop, for Phone, the discount will be 20% and for Laptop, the discount will be 30%. The pay_rate attribute is set to 20% at the class level, to change it to 30% for laptop, we can change it by using the instance created for laptop.\n",
    "item2 = Item(\"Laptop\", 1000, 5)\n",
    "item2.pay_rate = 0.7\n",
    "print(item2.pay_rate)\n",
    "item2.apply_discount()\n",
    "print(item2.price)\n",
    "\n",
    "\n",
    "item3 = Item(\"Phone\", 899, 10)\n",
    "item4 = Item(\"Laptop\", 1000, 5)\n",
    "item5 = Item(\"Keyboard\", 75, 25)\n",
    "item6 = Item(\"Mouse\", 20, 15)\n",
    "item7 = Item(\"VGA Cable\", 10, 20)\n",
    "print(Item.all_products)"
   ]
  },
  {
   "cell_type": "code",
   "execution_count": 17,
   "metadata": {},
   "outputs": [],
   "source": [
    "class BankAccount:\n",
    "    def __init__(self, owner, balance=0):\n",
    "        self.owner = owner\n",
    "        self.balance = balance\n",
    "        \n",
    "    def deposit(self, amount):\n",
    "        self.balance += amount\n",
    "        print(f\"The amount is deposted. The updated balance is: {self.balance}\")\n",
    "        return\n",
    "        \n",
    "    def withdraw(self, amount):\n",
    "        if amount > self.balance:\n",
    "            print(f\"Insufficient funds.\")\n",
    "            return\n",
    "        else:\n",
    "            self.balance -= amount\n",
    "            print(f\"Amount withdrawn. The updated balance is: {self.balance}\")\n",
    "            return\n",
    "            \n",
    "    def display_balance(self):\n",
    "        print(f\"The current balance is: {self.balance}\")"
   ]
  },
  {
   "cell_type": "code",
   "execution_count": 18,
   "metadata": {},
   "outputs": [
    {
     "name": "stdout",
     "output_type": "stream",
     "text": [
      "The current balance is: 10000\n",
      "Amount withdrawn. The updated balance is: 7500\n"
     ]
    }
   ],
   "source": [
    "account = BankAccount(\"XYZ\", 10000)\n",
    "account.display_balance()\n",
    "account.withdraw(2500)"
   ]
  },
  {
   "cell_type": "code",
   "execution_count": 19,
   "metadata": {},
   "outputs": [
    {
     "name": "stdout",
     "output_type": "stream",
     "text": [
      "The current balance is: 2000\n",
      "The amount is deposted. The updated balance is: 2600\n"
     ]
    }
   ],
   "source": [
    "account_2 = BankAccount(\"ABC\", 2000)\n",
    "account_2.display_balance()\n",
    "account_2.deposit(600)"
   ]
  },
  {
   "cell_type": "code",
   "execution_count": 24,
   "metadata": {},
   "outputs": [
    {
     "name": "stdout",
     "output_type": "stream",
     "text": [
      "My name is Yugal, I am 22 years old and I am Male\n",
      "Yugal\n",
      "Male\n"
     ]
    },
    {
     "ename": "AttributeError",
     "evalue": "'Person' object has no attribute '__age'",
     "output_type": "error",
     "traceback": [
      "\u001b[1;31m---------------------------------------------------------------------------\u001b[0m",
      "\u001b[1;31mAttributeError\u001b[0m                            Traceback (most recent call last)",
      "Cell \u001b[1;32mIn[24], line 15\u001b[0m\n\u001b[0;32m     13\u001b[0m \u001b[38;5;28mprint\u001b[39m(person_obj\u001b[38;5;241m.\u001b[39mname)\n\u001b[0;32m     14\u001b[0m \u001b[38;5;28mprint\u001b[39m(person_obj\u001b[38;5;241m.\u001b[39mgender)\n\u001b[1;32m---> 15\u001b[0m \u001b[38;5;28mprint\u001b[39m(\u001b[43mperson_obj\u001b[49m\u001b[38;5;241;43m.\u001b[39;49m\u001b[43m__age\u001b[49m) \u001b[38;5;66;03m# this will throw an error as __age is a private variable and cannot be accessed directly\u001b[39;00m\n",
      "\u001b[1;31mAttributeError\u001b[0m: 'Person' object has no attribute '__age'"
     ]
    }
   ],
   "source": [
    "class Person:\n",
    "    def __init__(self, name, age, gender, last_name):\n",
    "        self.name = name\n",
    "        self.__age = age ## __age is now a private variable\n",
    "        self.gender = gender\n",
    "        self._last_name = last_name ## this is protected variable. Protected variable can only be accessed in derived classes when using inheritance concepts.\n",
    "        \n",
    "    def display_details(self):\n",
    "        print(f\"My name is {self.name}, I am {self.__age} years old and I am {self.gender}\")\n",
    "        \n",
    "person_obj = Person(\"Yugal\", 22, \"Male\", \"Khanter\")\n",
    "person_obj.display_details()\n",
    "print(person_obj.name)\n",
    "print(person_obj.gender)\n",
    "print(person_obj.__age) # this will throw an error as __age is a private variable and cannot be accessed directly"
   ]
  },
  {
   "cell_type": "code",
   "execution_count": null,
   "metadata": {},
   "outputs": [],
   "source": []
  }
 ],
 "metadata": {
  "kernelspec": {
   "display_name": "Python 3",
   "language": "python",
   "name": "python3"
  },
  "language_info": {
   "codemirror_mode": {
    "name": "ipython",
    "version": 3
   },
   "file_extension": ".py",
   "mimetype": "text/x-python",
   "name": "python",
   "nbconvert_exporter": "python",
   "pygments_lexer": "ipython3",
   "version": "3.10.4"
  }
 },
 "nbformat": 4,
 "nbformat_minor": 2
}
