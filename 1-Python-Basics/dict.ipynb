{
 "cells": [
  {
   "cell_type": "markdown",
   "metadata": {},
   "source": [
    "Dictionaries are unordered collection of items. They store data in key-value pairs where key must be unique and immutable, while values can be of any type."
   ]
  },
  {
   "cell_type": "code",
   "execution_count": 3,
   "metadata": {},
   "outputs": [
    {
     "name": "stdout",
     "output_type": "stream",
     "text": [
      "<class 'dict'>\n"
     ]
    }
   ],
   "source": [
    "# creating a dictionary\n",
    "dictionary = {}\n",
    "print(type(dictionary))"
   ]
  },
  {
   "cell_type": "code",
   "execution_count": 5,
   "metadata": {},
   "outputs": [
    {
     "ename": "TypeError",
     "evalue": "'dict' object is not callable",
     "output_type": "error",
     "traceback": [
      "\u001b[1;31m---------------------------------------------------------------------------\u001b[0m",
      "\u001b[1;31mTypeError\u001b[0m                                 Traceback (most recent call last)",
      "Cell \u001b[1;32mIn[5], line 1\u001b[0m\n\u001b[1;32m----> 1\u001b[0m dict_new \u001b[38;5;241m=\u001b[39m \u001b[38;5;28;43mdict\u001b[39;49m\u001b[43m(\u001b[49m\u001b[43m)\u001b[49m\n\u001b[0;32m      2\u001b[0m \u001b[38;5;28mprint\u001b[39m(\u001b[38;5;28mtype\u001b[39m(\u001b[38;5;28mdict\u001b[39m))\n\u001b[0;32m      3\u001b[0m \u001b[38;5;66;03m# this error is maybe due to python 3.10 version\u001b[39;00m\n",
      "\u001b[1;31mTypeError\u001b[0m: 'dict' object is not callable"
     ]
    }
   ],
   "source": [
    "dict_new = dict()\n",
    "print(type(dict))\n",
    "# this error is maybe due to python 3.10 version"
   ]
  },
  {
   "cell_type": "code",
   "execution_count": 10,
   "metadata": {},
   "outputs": [
    {
     "data": {
      "text/plain": [
       "{'name': 'StudentName',\n",
       " 'age': 22,\n",
       " 'university': 'University of Southern California',\n",
       " 'course': 'MSCS'}"
      ]
     },
     "execution_count": 10,
     "metadata": {},
     "output_type": "execute_result"
    }
   ],
   "source": [
    "student = {\n",
    "    \"name\": \"StudentName\",\n",
    "    \"age\": 22,\n",
    "    \"university\": \"University of Southern California\",\n",
    "    \"course\": \"MSCS\"\n",
    "}\n",
    "student"
   ]
  },
  {
   "cell_type": "code",
   "execution_count": 15,
   "metadata": {},
   "outputs": [
    {
     "name": "stdout",
     "output_type": "stream",
     "text": [
      "StudentName\n",
      "22\n",
      "University of Southern California\n",
      "MSCS\n",
      "University of Southern California\n",
      "Invalid key\n"
     ]
    }
   ],
   "source": [
    "print(student[\"name\"])\n",
    "print(student[\"age\"])\n",
    "print(student[\"university\"])\n",
    "print(student[\"course\"])\n",
    "print(student.get('university'))\n",
    "print(student.get('last_name', \"Invalid key\"))"
   ]
  },
  {
   "cell_type": "code",
   "execution_count": 22,
   "metadata": {},
   "outputs": [
    {
     "data": {
      "text/plain": [
       "{'name': 'Yugal',\n",
       " 'age': 22,\n",
       " 'university': 'University of Southern California',\n",
       " 'course': 'MSCS',\n",
       " 'grade': 'A'}"
      ]
     },
     "execution_count": 22,
     "metadata": {},
     "output_type": "execute_result"
    }
   ],
   "source": [
    "# modifying dictionary elements\n",
    "student[\"name\"] = \"Yugal\"\n",
    "student[\"grade\"] = \"A\" #add new key-value pair\n",
    "student"
   ]
  },
  {
   "cell_type": "code",
   "execution_count": 23,
   "metadata": {},
   "outputs": [
    {
     "data": {
      "text/plain": [
       "{'name': 'Yugal',\n",
       " 'age': 22,\n",
       " 'university': 'University of Southern California',\n",
       " 'course': 'MSCS'}"
      ]
     },
     "execution_count": 23,
     "metadata": {},
     "output_type": "execute_result"
    }
   ],
   "source": [
    "del student['grade']\n",
    "student"
   ]
  },
  {
   "cell_type": "code",
   "execution_count": 24,
   "metadata": {},
   "outputs": [
    {
     "name": "stdout",
     "output_type": "stream",
     "text": [
      "dict_keys(['name', 'age', 'university', 'course'])\n",
      "dict_values(['Yugal', 22, 'University of Southern California', 'MSCS'])\n",
      "dict_items([('name', 'Yugal'), ('age', 22), ('university', 'University of Southern California'), ('course', 'MSCS')])\n"
     ]
    }
   ],
   "source": [
    "# dictionary methods\n",
    "keys = student.keys()\n",
    "print(keys)\n",
    "values = student.values()\n",
    "print(values)\n",
    "\n",
    "items = student.items()\n",
    "print(items)"
   ]
  },
  {
   "cell_type": "code",
   "execution_count": 25,
   "metadata": {},
   "outputs": [
    {
     "name": "stdout",
     "output_type": "stream",
     "text": [
      "{'name': 'Yugal', 'age': 22, 'university': 'University of Southern California', 'course': 'MSCS'}\n",
      "{'name': 'Yugal', 'age': 22, 'university': 'University of Southern California', 'course': 'MSCS'}\n"
     ]
    }
   ],
   "source": [
    "student_copy = student\n",
    "print(student)\n",
    "print(student_copy)"
   ]
  },
  {
   "cell_type": "code",
   "execution_count": 35,
   "metadata": {},
   "outputs": [
    {
     "name": "stdout",
     "output_type": "stream",
     "text": [
      "{'name': 'Name', 'age': 22, 'university': 'University of Southern California', 'course': 'MSCS'}\n",
      "{'name': 'Name', 'age': 22, 'university': 'University of Southern California', 'course': 'MSCS'}\n"
     ]
    }
   ],
   "source": [
    "# now lets change the name in student dictionary\n",
    "student[\"name\"] = \"Name\"\n",
    "print(student)\n",
    "print(student_copy)\n",
    "# this should only change the name in student dictionary, however it also changes the value in student_copy dictionary, which is a very critical error. To avoid this, we use shallow copy."
   ]
  },
  {
   "cell_type": "code",
   "execution_count": 36,
   "metadata": {},
   "outputs": [
    {
     "name": "stdout",
     "output_type": "stream",
     "text": [
      "{'name': 'Name', 'age': 22, 'university': 'University of Southern California', 'course': 'MSCS'}\n",
      "{'name': 'Name', 'age': 22, 'university': 'University of Southern California', 'course': 'MSCS'}\n"
     ]
    }
   ],
   "source": [
    "student_shallow_copy = student.copy()\n",
    "print(student)\n",
    "print(student_shallow_copy)"
   ]
  },
  {
   "cell_type": "code",
   "execution_count": 38,
   "metadata": {},
   "outputs": [
    {
     "name": "stdout",
     "output_type": "stream",
     "text": [
      "Original:  {'name': 'Yugal', 'age': 22, 'university': 'University of Southern California', 'course': 'MSCS'}\n",
      "Shallow copy: {'name': 'Name', 'age': 22, 'university': 'University of Southern California', 'course': 'MSCS'}\n"
     ]
    }
   ],
   "source": [
    "student[\"name\"] = \"Yugal\"\n",
    "print(\"Original: \", student)\n",
    "print(\"Shallow copy:\" ,student_shallow_copy)"
   ]
  },
  {
   "cell_type": "code",
   "execution_count": 44,
   "metadata": {},
   "outputs": [
    {
     "name": "stdout",
     "output_type": "stream",
     "text": [
      "name:Yugal\n",
      "age:22\n",
      "university:University of Southern California\n",
      "course:MSCS\n"
     ]
    }
   ],
   "source": [
    "for key, values in student.items():\n",
    "    print(f\"{key}:{values}\")"
   ]
  },
  {
   "cell_type": "code",
   "execution_count": null,
   "metadata": {},
   "outputs": [],
   "source": []
  }
 ],
 "metadata": {
  "kernelspec": {
   "display_name": "Python 3",
   "language": "python",
   "name": "python3"
  },
  "language_info": {
   "codemirror_mode": {
    "name": "ipython",
    "version": 3
   },
   "file_extension": ".py",
   "mimetype": "text/x-python",
   "name": "python",
   "nbconvert_exporter": "python",
   "pygments_lexer": "ipython3",
   "version": "3.10.4"
  }
 },
 "nbformat": 4,
 "nbformat_minor": 2
}
