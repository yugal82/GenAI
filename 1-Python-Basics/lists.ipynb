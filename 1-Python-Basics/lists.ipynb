{
 "cells": [
  {
   "cell_type": "code",
   "execution_count": 1,
   "metadata": {},
   "outputs": [],
   "source": [
    "# lists are ordered, mutuable collection of items\n",
    "#  they can contain items of different data types"
   ]
  },
  {
   "cell_type": "code",
   "execution_count": 2,
   "metadata": {},
   "outputs": [
    {
     "name": "stdout",
     "output_type": "stream",
     "text": [
      "<class 'list'>\n"
     ]
    }
   ],
   "source": [
    "list = []\n",
    "print(type(list))"
   ]
  },
  {
   "cell_type": "code",
   "execution_count": 2,
   "metadata": {},
   "outputs": [
    {
     "name": "stdout",
     "output_type": "stream",
     "text": [
      "<class 'list'>\n"
     ]
    }
   ],
   "source": [
    "new_list = list()\n",
    "print(type(new_list))"
   ]
  },
  {
   "cell_type": "code",
   "execution_count": 3,
   "metadata": {},
   "outputs": [
    {
     "data": {
      "text/plain": [
       "['Name1', 'Name2', 'Name3', 'Name4']"
      ]
     },
     "execution_count": 3,
     "metadata": {},
     "output_type": "execute_result"
    }
   ],
   "source": [
    "list = ['Name1', 'Name2', 'Name3', 'Name4']\n",
    "list"
   ]
  },
  {
   "cell_type": "code",
   "execution_count": 5,
   "metadata": {},
   "outputs": [
    {
     "data": {
      "text/plain": [
       "['String', 1, 3.142, True]"
      ]
     },
     "execution_count": 5,
     "metadata": {},
     "output_type": "execute_result"
    }
   ],
   "source": [
    "mixed_list = [\"String\", 1, 3.142, True]\n",
    "mixed_list"
   ]
  },
  {
   "cell_type": "code",
   "execution_count": 11,
   "metadata": {},
   "outputs": [
    {
     "name": "stdout",
     "output_type": "stream",
     "text": [
      "True\n",
      "String\n",
      "True\n"
     ]
    }
   ],
   "source": [
    "# the elements of list can be accessed using the index just like indexes of arrays.\n",
    "print(mixed_list[3])\n",
    "print(mixed_list[0])\n",
    "print(mixed_list[-1]) # -1 means the last element in the list."
   ]
  },
  {
   "cell_type": "code",
   "execution_count": 31,
   "metadata": {},
   "outputs": [
    {
     "name": "stdout",
     "output_type": "stream",
     "text": [
      "['Grapes', 'Papaya', 'Banana', 'Cherry']\n",
      "['Grapes', 'Papaya']\n",
      "['Grapes', 'Papaya', 'Banana']\n",
      "[]\n"
     ]
    }
   ],
   "source": [
    "fruits = [\"Apple\", \"Grapes\", \"Papaya\", \"Banana\", \"Cherry\"]\n",
    "print(fruits[1:])\n",
    "print(fruits[1:3]) # this will print elements from index 1 to 3 (excluding the 3rd index). i.e in general synstax: list[x:n] will print elements from index x to index n-1.\n",
    "print(fruits[-4:-1])\n",
    "print(fruits[-1:-2]) # invalid indexing for splicing, hence empty list is printed."
   ]
  },
  {
   "cell_type": "code",
   "execution_count": 32,
   "metadata": {},
   "outputs": [
    {
     "name": "stdout",
     "output_type": "stream",
     "text": [
      "['Apple', 'Grapes', 'Papaya', 'Banana', 'Cherry']\n",
      "['Apple', 'Grapes', 'Mango', 'Banana', 'Cherry']\n"
     ]
    }
   ],
   "source": [
    "# the elements of the list can be modified using the indexes.\n",
    "print(fruits)\n",
    "fruits[2] = \"Mango\"\n",
    "print(fruits)"
   ]
  },
  {
   "cell_type": "code",
   "execution_count": 33,
   "metadata": {},
   "outputs": [
    {
     "name": "stdout",
     "output_type": "stream",
     "text": [
      "Before list methods:  ['Apple', 'Grapes', 'Mango', 'Banana', 'Cherry']\n",
      "Reversed list:  ['Cherry', 'Banana', 'Mango', 'Grapes', 'Apple']\n",
      "Sorted list:  ['Apple', 'Banana', 'Cherry', 'Grapes', 'Mango']\n",
      "The number of times banana is present in list is:  0\n",
      "['Apple', 'Banana', 'Cherry', 'Watermelon', 'Mango']\n"
     ]
    }
   ],
   "source": [
    "# List methods\n",
    "print(\"Before list methods: \", fruits)\n",
    "fruits.append(\"Orange\")\n",
    "fruits.pop()\n",
    "fruits.reverse()\n",
    "print(\"Reversed list: \", fruits)\n",
    "fruits.sort()\n",
    "print(\"Sorted list: \", fruits)\n",
    "fruits.insert(3, \"Watermelon\") # inserts \"watermelon\" at index 3\n",
    "print(\"The number of times banana is present in list is: \", fruits.count(\"banana\"))\n",
    "fruits.remove(\"Grapes\") # removes the 1st occurrence of \"Grapes\"\n",
    "\n",
    "print(fruits)"
   ]
  },
  {
   "cell_type": "code",
   "execution_count": 36,
   "metadata": {},
   "outputs": [
    {
     "name": "stdout",
     "output_type": "stream",
     "text": [
      "Apple is present in list at index: 0\n",
      "Banana is present in list at index: 1\n",
      "Cherry is present in list at index: 2\n",
      "Watermelon is present in list at index: 3\n",
      "Mango is present in list at index: 4\n"
     ]
    }
   ],
   "source": [
    "# iterating over list\n",
    "for index, fruit in enumerate(fruits):\n",
    "    print(fruit, \"is present in list at index:\", index)"
   ]
  },
  {
   "cell_type": "code",
   "execution_count": 40,
   "metadata": {},
   "outputs": [
    {
     "data": {
      "text/plain": [
       "[0, 1, 4, 9, 16, 25, 36, 49, 64, 81]"
      ]
     },
     "execution_count": 40,
     "metadata": {},
     "output_type": "execute_result"
    }
   ],
   "source": [
    "# list comprehension\n",
    "[x**2 for x in range(10)]\n",
    "# here there are 2 important things. One is what is the output we want and second what operation do we need to perform.\n",
    "# [output operation]"
   ]
  },
  {
   "cell_type": "markdown",
   "metadata": {},
   "source": [
    "basic syntax -               [expression for item in iterable]\n",
    "\n",
    "with condition -             [expression for item in iterable if condition] \n",
    "\n",
    "nested list comprehension -  [expression for item1 in iterable1 for item2 in iterable2] "
   ]
  },
  {
   "cell_type": "code",
   "execution_count": 39,
   "metadata": {},
   "outputs": [
    {
     "data": {
      "text/plain": [
       "[1, 3, 5, 7, 9]"
      ]
     },
     "execution_count": 39,
     "metadata": {},
     "output_type": "execute_result"
    }
   ],
   "source": [
    "odd = [x for x in range(10) if x % 2 == 1]\n",
    "odd"
   ]
  },
  {
   "cell_type": "code",
   "execution_count": 41,
   "metadata": {},
   "outputs": [
    {
     "data": {
      "text/plain": [
       "[[1, 'a'],\n",
       " [1, 'b'],\n",
       " [1, 'c'],\n",
       " [1, 'd'],\n",
       " [2, 'a'],\n",
       " [2, 'b'],\n",
       " [2, 'c'],\n",
       " [2, 'd'],\n",
       " [3, 'a'],\n",
       " [3, 'b'],\n",
       " [3, 'c'],\n",
       " [3, 'd'],\n",
       " [4, 'a'],\n",
       " [4, 'b'],\n",
       " [4, 'c'],\n",
       " [4, 'd']]"
      ]
     },
     "execution_count": 41,
     "metadata": {},
     "output_type": "execute_result"
    }
   ],
   "source": [
    "# nested list comprehension\n",
    "list1 = [1,2,3,4]\n",
    "list2 = ['a', 'b', 'c', 'd']\n",
    "pair = [[i, j] for i in list1 for j in list2]\n",
    "pair"
   ]
  },
  {
   "cell_type": "code",
   "execution_count": null,
   "metadata": {},
   "outputs": [],
   "source": []
  }
 ],
 "metadata": {
  "kernelspec": {
   "display_name": "Python 3",
   "language": "python",
   "name": "python3"
  },
  "language_info": {
   "codemirror_mode": {
    "name": "ipython",
    "version": 3
   },
   "file_extension": ".py",
   "mimetype": "text/x-python",
   "name": "python",
   "nbconvert_exporter": "python",
   "pygments_lexer": "ipython3",
   "version": "3.10.4"
  }
 },
 "nbformat": 4,
 "nbformat_minor": 2
}
